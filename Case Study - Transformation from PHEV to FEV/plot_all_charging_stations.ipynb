{
 "cells": [
  {
   "cell_type": "code",
   "execution_count": 1,
   "metadata": {
    "ExecuteTime": {
     "end_time": "2017-04-06T13:45:41.461139",
     "start_time": "2017-04-06T13:45:41.456638"
    },
    "collapsed": true
   },
   "outputs": [],
   "source": [
    "import ipyleaflet\n",
    "import ipywidgets\n",
    "import pandas\n",
    "import numpy"
   ]
  },
  {
   "cell_type": "code",
   "execution_count": 2,
   "metadata": {
    "ExecuteTime": {
     "end_time": "2017-04-06T13:34:30.350436",
     "start_time": "2017-04-06T13:34:28.975932"
    },
    "collapsed": true
   },
   "outputs": [],
   "source": [
    "sessions = pandas.read_pickle(\"../data/real/ChargeSessions_general.pkl\")"
   ]
  },
  {
   "cell_type": "code",
   "execution_count": 3,
   "metadata": {
    "ExecuteTime": {
     "end_time": "2017-04-06T13:45:43.189507",
     "start_time": "2017-04-06T13:45:43.163166"
    },
    "collapsed": false
   },
   "outputs": [],
   "source": [
    "map_center = [52.179059695, 4.78514509466]\n",
    "m = ipyleaflet.Map(center = map_center, zoom = 8)\n",
    "\n",
    "textarea = ipywidgets.Textarea()\n",
    "textarea.width = '40em'\n",
    "textarea.height = ''"
   ]
  },
  {
   "cell_type": "code",
   "execution_count": 4,
   "metadata": {
    "ExecuteTime": {
     "end_time": "2017-04-06T13:34:31.577234",
     "start_time": "2017-04-06T13:34:31.562385"
    },
    "collapsed": true
   },
   "outputs": [],
   "source": [
    "def clear_map(m):\n",
    "    current_layers = list(m.layers)[1:]\n",
    "    for layer in current_layers:\n",
    "        m.remove_layer(layer)\n",
    "    layers = []\n",
    "    \n",
    "def polygon_generator(offset, size = 1, edge_length_lon = 0.0005, edge_length_lat = 0.0005, shape = 'hexagon'):\n",
    "    '''\n",
    "    Generates the coordinates of a hexagon with the center being the offset.\n",
    "\n",
    "    Args:\n",
    "        offset: center of the polygon\n",
    "\n",
    "    Kwargs:\n",
    "        size: scaling factor for the edge lengths\n",
    "        edge_length_lon: edge length in longitude direction\n",
    "        edge_length_lat: edge length in latitude direction\n",
    "        shape: shape of polygon, e.g. 'hexagon', 'triangle' or 'square'\n",
    "\n",
    "    Returns:\n",
    "        An array of coordinates (lon, lat) for the center of the polygon.\n",
    "    '''\n",
    "\n",
    "    if shape == 'hexagon':\n",
    "        stepsize = 60\n",
    "    elif shape == 'triangle':\n",
    "        stepsize = 120\n",
    "    elif shape == 'square':\n",
    "        stepsize = 90\n",
    "    else:\n",
    "        print(\"Shape undefined in polygon_generator function, now making a hexagon\")\n",
    "        stepsize = 60\n",
    "\n",
    "    coords = []\n",
    "    lon, lat = offset\n",
    "    for angle in range(0, 360, stepsize):\n",
    "        lon = numpy.cos(numpy.radians(angle)) * edge_length_lon * size + offset[0]\n",
    "        lat = numpy.sin(numpy.radians(angle)) * edge_length_lat * size + offset[1]\n",
    "        coords.append([lon, lat])\n",
    "    return coords"
   ]
  },
  {
   "cell_type": "code",
   "execution_count": 5,
   "metadata": {
    "ExecuteTime": {
     "end_time": "2017-04-06T13:46:30.828463",
     "start_time": "2017-04-06T13:46:30.796969"
    },
    "collapsed": true
   },
   "outputs": [],
   "source": [
    "def add_all_css_to_map(m, sessions):    \n",
    "    clear_map(m)\n",
    "\n",
    "    features = []\n",
    "        \n",
    "    MAX_SIZE = 500\n",
    "    print(len(sessions['location_key'].unique()))\n",
    "    for cs in sessions['location_key'].unique():\n",
    "        coordinates = [sessions[sessions['location_key'] == cs].longitude.values[0],\n",
    "                       sessions[sessions['location_key'] == cs].latitude.values[0]]\n",
    "\n",
    "        frequency_of_use = len(sessions[sessions['location_key'] == cs])\n",
    "        size = 50 + frequency_of_use * MAX_SIZE\n",
    "        sessions_cs = sessions[sessions['location_key'] == cs].to_json(date_format='iso')\n",
    "\n",
    "        feature = {\"type\": \"Feature\", \"properties\": {\"type\": \"charging station\",\n",
    "                                                     \"cs\": cs,\n",
    "                                                     \"frequency_of_use\": frequency_of_use,\n",
    "                                                     \"size\": size,\n",
    "                                                     \"sessions_cs\": sessions_cs,\n",
    "                                                     \"style\": {\"fillOpacity\": 0.8, \"smoothFactor\": 0, \"stroke\": True,\n",
    "                                                               \"color\": \"blue\", \"fillColor\": \"blue\"}},\n",
    "                   \"geometry\": {\"type\": \"Polygon\", \"coordinates\":\n",
    "                                [polygon_generator(offset = coordinates, size = 0.2, shape = 'square')]}}\n",
    "        features.append(feature)\n",
    "\n",
    "    data = {\"type\": \"FeatureCollection\", \"features\": features}\n",
    "\n",
    "    layer = ipyleaflet.GeoJSON(data = data, hover_style = {'color': 'grey', 'fillColor': 'grey'})\n",
    "\n",
    "    def click_handler(event=None, id=None, properties=None):\n",
    "        sessions_cs = pandas.read_json(properties[\"sessions_cs\"])\n",
    "        sessions_cs['start_connection'] = pandas.to_datetime(sessions_cs['start_connection'])\n",
    "        sessions_cs['end_connection'] = pandas.to_datetime(sessions_cs['end_connection'])\n",
    "\n",
    "        sessions_cs = sessions_cs.sort('start_connection')\n",
    "        first_appearance = sessions_cs['start_connection'].iloc[0].date()\n",
    "        last_appearance = sessions_cs['start_connection'].iloc[-1].date()\n",
    "\n",
    "        textarea.value = (\"You clicked on a charging station.\\n\"\n",
    "                             \"Location key(s): \\t\\t%s\\n\"\n",
    "                             \"Nr of sessions: \\t\\t%d\\n\"\n",
    "                             \"Active between: \\t\\t%s and %s\\n\" % (properties['cs'], properties['frequency_of_use'],\n",
    "                                              first_appearance, last_appearance))\n",
    "\n",
    "    layer.on_click(click_handler)\n",
    "\n",
    "    m.add_layer(layer)\n",
    "    "
   ]
  },
  {
   "cell_type": "code",
   "execution_count": 6,
   "metadata": {
    "ExecuteTime": {
     "end_time": "2017-04-06T13:47:05.744753",
     "start_time": "2017-04-06T13:46:31.298325"
    },
    "collapsed": false
   },
   "outputs": [
    {
     "name": "stdout",
     "output_type": "stream",
     "text": [
      "2540\n"
     ]
    }
   ],
   "source": [
    "add_all_css_to_map(m, sessions)  "
   ]
  },
  {
   "cell_type": "code",
   "execution_count": 9,
   "metadata": {
    "ExecuteTime": {
     "end_time": "2017-04-06T13:45:58.756887",
     "start_time": "2017-04-06T13:45:58.753235"
    },
    "collapsed": false
   },
   "outputs": [],
   "source": [
    "m"
   ]
  },
  {
   "cell_type": "code",
   "execution_count": 8,
   "metadata": {
    "ExecuteTime": {
     "end_time": "2017-04-06T13:45:49.380301",
     "start_time": "2017-04-06T13:45:49.374189"
    },
    "collapsed": true
   },
   "outputs": [],
   "source": [
    "textarea"
   ]
  },
  {
   "cell_type": "code",
   "execution_count": null,
   "metadata": {
    "collapsed": true
   },
   "outputs": [],
   "source": []
  }
 ],
 "metadata": {
  "kernelspec": {
   "display_name": "Python 3",
   "language": "python",
   "name": "python3"
  },
  "language_info": {
   "codemirror_mode": {
    "name": "ipython",
    "version": 3
   },
   "file_extension": ".py",
   "mimetype": "text/x-python",
   "name": "python",
   "nbconvert_exporter": "python",
   "pygments_lexer": "ipython3",
   "version": "3.4.3"
  },
  "widgets": {
   "state": {
    "00dffd62d49f4018a81ca73ae6562ece": {
     "views": [
      {
       "cell_index": 6
      }
     ]
    }
   },
   "version": "1.2.0"
  }
 },
 "nbformat": 4,
 "nbformat_minor": 0
}
