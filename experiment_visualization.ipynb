{
 "cells": [
  {
   "cell_type": "code",
   "execution_count": null,
   "metadata": {
    "ExecuteTime": {
     "end_time": "2017-04-23T21:13:08.872508",
     "start_time": "2017-04-23T21:13:08.386296"
    },
    "code_folding": [
     9,
     22,
     74,
     121,
     162
    ],
    "collapsed": false
   },
   "outputs": [],
   "source": [
    "%matplotlib inline\n",
    "import matplotlib.pyplot as plt\n",
    "import pickle\n",
    "import bqplot\n",
    "import IPython\n",
    "import numpy\n",
    "import ipywidgets\n",
    "\n",
    "\n",
    "def convert_results(data, data_type = ''):\n",
    "    experiment_results = []\n",
    "    for experiment in data:\n",
    "        if isinstance(experiment, dict):\n",
    "            partial_data = list(experiment[data_type])\n",
    "        else:\n",
    "            partial_data = list(experiment)\n",
    "        mean = numpy.mean(partial_data)\n",
    "        conf = 1.96 * numpy.std(partial_data) / numpy.sqrt(len(partial_data))\n",
    "        experiment_result = [mean, mean + conf, mean - conf, mean]\n",
    "        experiment_results.append(experiment_result)\n",
    "    return experiment_results\n",
    "\n",
    "def plot_initialization(clustering, measures, number_of_agents):\n",
    "    all_colors = ['green', 'blue', 'purple', 'orange']\n",
    "\n",
    "    colors = {measure: all_colors[i] for i, measure in enumerate(measures)}\n",
    "\n",
    "    for parameter, values in clustering.items():\n",
    "        results = {measure: [] for measure in measures}\n",
    "        figs = []\n",
    "\n",
    "        sc_y = bqplot.LinearScale()\n",
    "        sc_y_right = bqplot.LinearScale()\n",
    "        sc_x = bqplot.LinearScale()\n",
    "\n",
    "        ax_x = bqplot.Axis(label = parameter, scale = sc_x, grid_lines = 'none')\n",
    "        ax_y = bqplot.Axis(label = 'Mean amount per agent', scale = sc_y, orientation = 'vertical', tick_format = '.2f')\n",
    "        ax_y_right = bqplot.Axis(label = 'Walking preparedness (meters)', scale = sc_y_right, orientation = 'vertical', grid_lines = 'none', tick_format = '.0f', side = 'right')\n",
    "\n",
    "        with ax_y_right.hold_sync():\n",
    "            ax_y_right.color = colors['walking_preparedness']\n",
    "            ax_y_right.label_color = colors['walking_preparedness']\n",
    "        with ax_y.hold_sync():\n",
    "            ax_y.color = colors['number_of_centers']\n",
    "            ax_y.label_color = colors['number_of_centers']\n",
    "\n",
    "        for measure in measures:\n",
    "            for value in values:\n",
    "                experiment_dir = \"../DDCM-experiments/experiment_initialization_measure_%s_varying_%s/\" % (measure, parameter)\n",
    "                experiment_file = \"%.2f_%s_%d_repeats.pkl\" % (value, parameter, number_of_agents)\n",
    "                with open(experiment_dir + experiment_file, \"rb\") as file:\n",
    "                    partial_results = pickle.load(file)\n",
    "                partial_results = [element if not numpy.isnan(element) else 200 for element in partial_results]\n",
    "\n",
    "                results[measure].append(partial_results) \n",
    "\n",
    "            if measure in ['number_of_centers', 'number_of_charging_stations']:\n",
    "                scales = {'x': sc_x, 'y': sc_y}\n",
    "            else:\n",
    "                scales = {'x': sc_x, 'y': sc_y_right}\n",
    "\n",
    "            figs.append(bqplot.OHLC(x= values, y=convert_results(results[measure]), \n",
    "                marker='candle', colors = [colors[measure], colors[measure]], stroke = colors[measure], \n",
    "                stroke_width = 2.0, scales=scales, labels = [measure], display_legend = True))\n",
    "\n",
    "        figure = bqplot.Figure(axes=[ax_x, ax_y_right, ax_y], marks=figs, \n",
    "            title = \"Experiment %s varying %s\" % (measure, parameter))\n",
    "        toolbar = bqplot.Toolbar(figure=figure)\n",
    "        complete_figure = ipywidgets.VBox([figure, toolbar, ipywidgets.HTML(value = \"%s_varying_%s\" % (measure, parameter))])\n",
    "        IPython.display.display(complete_figure)\n",
    "        \n",
    "        \n",
    "        \n",
    "        \n",
    "def plot_simulation(parameter, values, maesures, simulation_repeats, number_of_agents = -1):\n",
    "    results = {measure: [] for measure in measures}\n",
    "    color_training = \"blue\"\n",
    "    color_test = \"orange\"\n",
    "\n",
    "    for measure in measures:\n",
    "        for value in values:\n",
    "            if value not in [900, 1400, 1300, 1600]:       \n",
    "                experiment_dir = \"../DDCM-experiments/experiment_simulation_measures_%s_varying_%s/\" % (measure, parameter)\n",
    "                if parameter == 'number_of_agents':\n",
    "                    experiment_file = \"%s_%s_%s_simulation_repeats.pkl\" % (value, parameter, simulation_repeats)\n",
    "                else:\n",
    "                    if parameter == 'simulation_repeats':\n",
    "                        simulation_repeats = value\n",
    "                    experiment_file = \"%s_%s_%s_agents_%s_simulation_repeats.pkl\" % (value, parameter, number_of_agents, simulation_repeats)\n",
    "                    \n",
    "                with open(experiment_dir + experiment_file, \"rb\") as file:\n",
    "                    partial_results = pickle.load(file)\n",
    "                results[measure].append(partial_results) \n",
    "            else:\n",
    "                results[measure].append([0 for i in results[measure][-1]])\n",
    "\n",
    "        sc_x = bqplot.LinearScale()\n",
    "        sc_y = bqplot.LinearScale()\n",
    "        sc_y.min = 0\n",
    "\n",
    "        ax_x = bqplot.Axis(label=parameter, scale=sc_x)\n",
    "        ax_y = bqplot.Axis(label=measure, scale=sc_y, orientation='vertical', tick_format='.2f')\n",
    "\n",
    "        if measure in ['charging_station_validation', 'agent_validation']:\n",
    "            training = bqplot.OHLC(x=values, y=convert_results(results[measure], 'training'),\n",
    "                         marker='candle', scales={'x': sc_x, 'y': sc_y}, labels =['training'], display_legend = True, \n",
    "                         stroke = color_training, colors = [color_training, color_training], stroke_width = 2.0)\n",
    "            test = bqplot.OHLC(x=values, y=convert_results(results[measure], 'test'),\n",
    "                         marker='candle', scales={'x': sc_x, 'y': sc_y}, labels = ['test'], display_legend = True,\n",
    "                         stroke = color_test, colors = [color_test, color_test], stroke_width = 2.0)\n",
    "            figs = [training, test]\n",
    "        else:\n",
    "            figs = [bqplot.OHLC(x= values, y=convert_results(results[measure]),\n",
    "                         marker='candle', scales={'x': sc_x, 'y': sc_y})]\n",
    "\n",
    "        figure = bqplot.Figure(axes=[ax_x, ax_y], marks=figs, \n",
    "            title = \"Experiment %s varying %s\" % (measure, parameter))\n",
    "        toolbar = bqplot.Toolbar(figure=figure)\n",
    "        complete_figure = ipywidgets.VBox([figure, toolbar, ipywidgets.HTML(value = \"%s_varying_%s\" % (measure, parameter))])\n",
    "        IPython.display.display(complete_figure)\n",
    "\n",
    "def plot_initialization_and_simulation(parameter, values, measures, number_of_agents, simulation_repeats):\n",
    "    results = {measure: [] for measure in measures}\n",
    "    color_training = \"blue\"\n",
    "    color_test = \"orange\"\n",
    "\n",
    "    for measure in measures:\n",
    "        for value in values:\n",
    "            experiment_dir = \"../DDCM-experiments/experiment_initialization_and_simulation_measures_%s_varying_%s/\" % (measure, parameter)\n",
    "            experiment_file = \"%s_%s_%d_agents_%s_simulation_repeats.pkl\" % (value, parameter, number_of_agents, simulation_repeats)\n",
    "            with open(experiment_dir + experiment_file, \"rb\") as file:\n",
    "                partial_results = pickle.load(file)\n",
    "            results[measure].append(partial_results) \n",
    "\n",
    "        if parameter in ['distance_metric', 'weighted_centers']:\n",
    "            sc_x = bqplot.OrdinalScale()\n",
    "        else:\n",
    "            sc_x = bqplot.LinearScale()\n",
    "        sc_y = bqplot.LinearScale()\n",
    "        sc_y.min = 0\n",
    "\n",
    "        ax_x = bqplot.Axis(label=parameter, scale=sc_x)\n",
    "        ax_y = bqplot.Axis(label=measure, scale=sc_y, orientation='vertical', tick_format='.2f')\n",
    "\n",
    "        if measure in ['charging_station_validation', 'agent_validation']:\n",
    "            training = bqplot.OHLC(x=values, y=convert_results(results[measure], 'training'),\n",
    "                         marker='candle', scales={'x': sc_x, 'y': sc_y}, labels =['training'], display_legend = True, \n",
    "                         stroke = color_training, colors = [color_training, color_training], stroke_width = 2.0)\n",
    "            test = bqplot.OHLC(x=values, y=convert_results(results[measure], 'test'),\n",
    "                         marker='candle', scales={'x': sc_x, 'y': sc_y}, labels = ['test'], display_legend = True,\n",
    "                         stroke = color_test, colors = [color_test, color_test], stroke_width = 2.0)\n",
    "            figs = [training, test]\n",
    "        else:\n",
    "            figs = [bqplot.OHLC(x= values, y=convert_results(results[measure]),\n",
    "                         marker='candle', scales={'x': sc_x, 'y': sc_y})]\n",
    "            \n",
    "        figure = bqplot.Figure(axes=[ax_x, ax_y], marks=figs, \n",
    "            title = \"Experiment %s varying %s\" % (measure, parameter))\n",
    "        toolbar = bqplot.Toolbar(figure=figure)\n",
    "        complete_figure = ipywidgets.VBox([figure, toolbar, ipywidgets.HTML(value = \"%s_varying_%s\" % (measure, parameter))])\n",
    "        IPython.display.display(complete_figure)\n",
    "\n",
    "def plot_distribution(parameter, values, measures, simulation_repeats):\n",
    "    for measure in measures:\n",
    "        for value in values:\n",
    "            experiment_dir = \"../DDCM-experiments/experiment_simulation_measures_%s_varying_%s/\" % (measure, parameter)\n",
    "            experiment_file = \"%s_%s_%d_simulation_repeats.pkl\" % (value, parameter, simulation_repeats)\n",
    "            with open(experiment_dir + experiment_file, \"rb\") as file:\n",
    "                results = pickle.load(file)\n",
    "\n",
    "            scale_x = bqplot.LinearScale()\n",
    "            scale_y = bqplot.LinearScale()\n",
    "            ax_x = bqplot.Axis(label = measure, scale=scale_x, tick_format='0.2f')\n",
    "            ax_y = bqplot.Axis(label = 'counts', scale = scale_y,\n",
    "                orientation = 'vertical', grid_lines = 'solid')\n",
    "\n",
    "            hist = bqplot.Hist(sample = results,\n",
    "                scales = {'sample': scale_x, 'count': scale_y}, colors = ['green'])\n",
    "            hist.bins = 50\n",
    "\n",
    "            fig = bqplot.Figure(axes = [ax_x, ax_y], marks = [hist])\n",
    "            toolbar = bqplot.Toolbar(figure = fig)\n",
    "            IPython.display.display(ipywidgets.VBox([fig, toolbar]))\n",
    "            \n",
    "            \n",
    "def plot_correlation(parameter, values, measures, simulation_repeats):\n",
    "    correlation_samples = {'training': {}, 'test': {}}\n",
    "    for measure in measures:\n",
    "        for value in values:\n",
    "            experiment_dir = \"../DDCM-experiments/experiment_simulation_measures_%s_varying_%s/\" % (measure, parameter)\n",
    "            experiment_file = \"%s_%s_%s_simulation_repeats.pkl\" % (value, parameter, simulation_repeats)\n",
    "            with open(experiment_dir + experiment_file, \"rb\") as file:\n",
    "                partial_results = pickle.load(file)\n",
    "            if measure == 'number_of_training_sessions_with_IDs':\n",
    "                for ID, result in partial_results:\n",
    "                    correlation_samples['training'][ID] = [result]\n",
    "                    correlation_samples['test'][ID] = [result]\n",
    "            elif measure == 'agent_validation_with_IDs':\n",
    "                for validation_type in partial_results:\n",
    "                    for ID, result in partial_results[validation_type]:\n",
    "                        correlation_samples[validation_type][ID].append(result)\n",
    "\n",
    "    for validation_type in ['training', 'test']:\n",
    "        samples = list(correlation_samples[validation_type].values())\n",
    "        samples_x = [x for x, y in samples]\n",
    "        samples_y = [y for x, y in samples]\n",
    "\n",
    "        sc_x = bqplot.LinearScale()\n",
    "        sc_y = bqplot.LinearScale()\n",
    "\n",
    "        scatt = bqplot.Scatter(x = samples_x, y = samples_y, scales = {'x': sc_x, 'y': sc_y}, colors = ['dodgerblue'])\n",
    "        ax_x = bqplot.Axis(scale = sc_x, label = 'number_of_training_sessions')\n",
    "        ax_y = bqplot.Axis(scale = sc_y, orientation = 'vertical', tick_format = '0.2f', label = 'agent_validation')\n",
    "\n",
    "        fig = bqplot.Figure(marks=[scatt], axes=[ax_x, ax_y], title = \n",
    "            'Correlation of number of training sessions and agent validation (%s error)' % validation_type)\n",
    "        toolbar = bqplot.Toolbar(figure = fig)\n",
    "        IPython.display.display(ipywidgets.VBox([fig, toolbar]))\n"
   ]
  },
  {
   "cell_type": "markdown",
   "metadata": {},
   "source": [
    "## 1.1 Experiment initialization: Effects of clustering parameters on clustering metrics"
   ]
  },
  {
   "cell_type": "code",
   "execution_count": null,
   "metadata": {
    "ExecuteTime": {
     "end_time": "2017-04-22T16:41:11.316515",
     "start_time": "2017-04-22T16:41:10.449496"
    },
    "collapsed": false,
    "scrolled": true
   },
   "outputs": [],
   "source": [
    "clustering = {}\n",
    "\n",
    "min_value, step_value, max_value = 0.1, 0.2, 3\n",
    "values = numpy.arange(min_value, max_value + step_value, step_value)\n",
    "clustering['clustering_birch_threshold'] = values\n",
    "\n",
    "min_value, step_value, max_value = 1.0, 1.0, 20.0\n",
    "values = numpy.arange(min_value, max_value + step_value, step_value)\n",
    "clustering['clustering_lon_lat_scale'] = values\n",
    "\n",
    "min_value, step_value, max_value = 0.01, 0.02, 0.24\n",
    "values = numpy.arange(min_value, max_value + step_value, step_value)\n",
    "clustering['threshold_fraction_sessions'] = values\n",
    "\n",
    "min_value, step_value, max_value = 5, 5, 50\n",
    "values = range(min_value, max_value + step_value, step_value)\n",
    "clustering['minimum_nr_sessions_center'] = values\n",
    "\n",
    "min_value, step_value, max_value = 5, 5, 50\n",
    "values = range(min_value, max_value + step_value, step_value)\n",
    "clustering['minimum_nr_sessions_cs'] = values\n",
    "\n",
    "measures = ['number_of_centers', 'number_of_charging_stations', 'walking_preparedness']\n",
    "number_of_agents = 2000\n",
    "\n",
    "plot_initialization(clustering, measures, number_of_agents)"
   ]
  },
  {
   "cell_type": "markdown",
   "metadata": {},
   "source": [
    "## 1.2 Experiment initialization and simulation: Effect of max gap sessions agent on validation metrics and time metrics"
   ]
  },
  {
   "cell_type": "code",
   "execution_count": null,
   "metadata": {
    "ExecuteTime": {
     "end_time": "2017-04-23T21:13:18.345698",
     "start_time": "2017-04-23T21:13:18.069291"
    },
    "collapsed": false
   },
   "outputs": [],
   "source": [
    "parameter = 'max_gap_sessions_agent'\n",
    "min_, step_, max_ = 10, 10, 100\n",
    "values = range(min_, max_ + step_, step_)\n",
    "measures = ['agent_validation', 'charging_station_validation', 'time_per_simulation', 'time_per_initialization']\n",
    "number_of_agents, simulation_repeats = 100, 100\n",
    "\n",
    "plot_initialization_and_simulation(parameter, values, measures, number_of_agents, simulation_repeats)"
   ]
  },
  {
   "cell_type": "markdown",
   "metadata": {},
   "source": [
    "## 1.3 Experiment initialization and simulation: Effect of bin size dist on validation metrics and time metrics\n"
   ]
  },
  {
   "cell_type": "code",
   "execution_count": null,
   "metadata": {
    "ExecuteTime": {
     "end_time": "2017-04-22T16:41:19.873402",
     "start_time": "2017-04-22T16:41:19.651298"
    },
    "collapsed": false
   },
   "outputs": [],
   "source": [
    "parameter = 'bin_size_dist'\n",
    "min_bin_size, bin_size_step, max_bin_size = 10, 10, 360\n",
    "bin_size_range = range(min_bin_size, max_bin_size + bin_size_step, bin_size_step)\n",
    "values = [bin_size for bin_size in bin_size_range if 1440 % bin_size == 0]\n",
    "measures = ['agent_validation', 'charging_station_validation', 'time_per_simulation', 'time_per_initialization']\n",
    "number_of_agents, simulation_repeats = 100, 100\n",
    "\n",
    "plot_initialization_and_simulation(parameter, values, measures, number_of_agents, simulation_repeats)"
   ]
  },
  {
   "cell_type": "markdown",
   "metadata": {},
   "source": [
    "## 1.4 Experiment simulation: Effect of habit probability on validation metrics and time metrics"
   ]
  },
  {
   "cell_type": "code",
   "execution_count": null,
   "metadata": {
    "ExecuteTime": {
     "end_time": "2017-04-22T15:10:49.576783",
     "start_time": "2017-04-22T15:10:49.389029"
    },
    "collapsed": false
   },
   "outputs": [],
   "source": [
    "parameter = 'habit_probability'\n",
    "min_, step_, max_ = 0, 0.2, 1\n",
    "values = numpy.arange(min_, max_ + step_, step_)\n",
    "measures = ['charging_station_validation', 'agent_validation', 'time_per_simulation']\n",
    "number_of_agents, simulation_repeats = 100, 100\n",
    "\n",
    "plot_simulation(parameter, values, measures, simulation_repeats, number_of_agents = number_of_agents)"
   ]
  },
  {
   "cell_type": "markdown",
   "metadata": {},
   "source": [
    "## 1.5 Experiment simulation: Effect of time retry center on validation metrics and time metrics"
   ]
  },
  {
   "cell_type": "code",
   "execution_count": null,
   "metadata": {
    "ExecuteTime": {
     "end_time": "2017-04-22T15:11:17.490069",
     "start_time": "2017-04-22T15:11:17.311227"
    },
    "collapsed": false
   },
   "outputs": [],
   "source": [
    "parameter = 'time_retry_center'\n",
    "min_, step_, max_ = 30, 30, 180\n",
    "values = range(min_, max_ + step_, step_)\n",
    "measures = ['charging_station_validation', 'agent_validation', 'time_per_simulation']\n",
    "number_of_agents, simulation_repeats = 100, 100\n",
    "\n",
    "plot_simulation(parameter, values, measures, simulation_repeats, number_of_agents = number_of_agents)"
   ]
  },
  {
   "cell_type": "markdown",
   "metadata": {},
   "source": [
    "## 1.6 Experiment initialization and simulation: Effect of default walking preparedness metrics and time metrics"
   ]
  },
  {
   "cell_type": "code",
   "execution_count": null,
   "metadata": {
    "ExecuteTime": {
     "end_time": "2017-04-22T15:11:46.771936",
     "start_time": "2017-04-22T15:11:46.546669"
    },
    "collapsed": false
   },
   "outputs": [],
   "source": [
    "parameter = 'default_walking_preparedness'\n",
    "min_, step_, max_ = 50, 50, 300\n",
    "values = range(min_, max_ + step_, step_)\n",
    "measures = ['agent_validation', 'charging_station_validation', 'time_per_simulation', 'time_per_initialization']\n",
    "number_of_agents, simulation_repeats = 100, 100\n",
    "\n",
    "plot_initialization_and_simulation(parameter, values, measures, number_of_agents, simulation_repeats)"
   ]
  },
  {
   "cell_type": "markdown",
   "metadata": {},
   "source": [
    "## 1.7 Experiments simulation: Effect of warmup period in days on validation metrics and time metrics"
   ]
  },
  {
   "cell_type": "code",
   "execution_count": null,
   "metadata": {
    "ExecuteTime": {
     "end_time": "2017-04-22T15:12:22.064369",
     "start_time": "2017-04-22T15:12:21.886118"
    },
    "collapsed": false
   },
   "outputs": [],
   "source": [
    "parameter = 'warmup_period_in_days'\n",
    "min_, step_, max_ = 5, 30, 155\n",
    "values = range(min_, max_ + step_, step_)\n",
    "measures = ['charging_station_validation', 'agent_validation', 'time_per_simulation']\n",
    "number_of_agents, simulation_repeats = 100, 100\n",
    "\n",
    "plot_simulation(parameter, values, measures, simulation_repeats, number_of_agents = number_of_agents)"
   ]
  },
  {
   "cell_type": "markdown",
   "metadata": {},
   "source": [
    "## 1.8 Experiments initialization and simulation: Effect  of  distance  measure on  validation metrics and time metrics"
   ]
  },
  {
   "cell_type": "code",
   "execution_count": null,
   "metadata": {
    "ExecuteTime": {
     "end_time": "2017-04-22T15:12:50.399648",
     "start_time": "2017-04-22T15:12:50.170712"
    },
    "collapsed": false
   },
   "outputs": [],
   "source": [
    "parameter = 'distance_metric'\n",
    "values = ['as_the_crow_flies', 'walking']\n",
    "measures = ['agent_validation', 'charging_station_validation', 'time_per_simulation', 'time_per_initialization']\n",
    "number_of_agents, simulation_repeats = 100, 100\n",
    "\n",
    "plot_initialization_and_simulation(parameter, values, measures, number_of_agents, simulation_repeats)"
   ]
  },
  {
   "cell_type": "markdown",
   "metadata": {},
   "source": [
    "## 1.9 Experiments initialization and simulation: Effect of weighted vs unweighted centers on validation metrics and time metrics and distance and walking preparedness"
   ]
  },
  {
   "cell_type": "code",
   "execution_count": null,
   "metadata": {
    "ExecuteTime": {
     "end_time": "2017-04-22T15:13:27.028388",
     "start_time": "2017-04-22T15:13:26.704149"
    },
    "collapsed": false
   },
   "outputs": [],
   "source": [
    "parameter = 'weighted_centers'\n",
    "values = [True, False]\n",
    "measures = ['agent_validation', 'charging_station_validation',\n",
    "    'time_per_simulation', 'time_per_initialization', 'maximum_distance',\n",
    "    'walking_preparedness']\n",
    "number_of_agents, simulation_repeats = 100, 100\n",
    "\n",
    "plot_initialization_and_simulation(parameter, values, measures, number_of_agents, simulation_repeats)"
   ]
  },
  {
   "cell_type": "markdown",
   "metadata": {},
   "source": [
    "## 1.10 Distribution of walking preparedness"
   ]
  },
  {
   "cell_type": "code",
   "execution_count": null,
   "metadata": {
    "ExecuteTime": {
     "end_time": "2017-04-22T17:36:24.124259",
     "start_time": "2017-04-22T17:36:24.059100"
    },
    "collapsed": false
   },
   "outputs": [],
   "source": [
    "parameter = 'number_of_agents'\n",
    "values = [2244]\n",
    "measures = ['walking_preparedness'] # 'maximum_distance' only after new agents created\n",
    "simulation_repeats = 0\n",
    "\n",
    "plot_distribution(parameter, values, measures, simulation_repeats)"
   ]
  },
  {
   "cell_type": "markdown",
   "metadata": {},
   "source": [
    "## 1.11 Effect of simulation repeats on validation metrics and time metrics"
   ]
  },
  {
   "cell_type": "code",
   "execution_count": null,
   "metadata": {
    "ExecuteTime": {
     "end_time": "2017-04-23T15:29:13.916717",
     "start_time": "2017-04-23T15:29:13.723908"
    },
    "collapsed": false
   },
   "outputs": [],
   "source": [
    "parameter = 'simulation_repeats'\n",
    "min_, step_, max_ = 10, 20, 310\n",
    "values = range(min_, max_ + step_, step_)\n",
    "measures = ['charging_station_validation', 'agent_validation', 'time_per_simulation']\n",
    "number_of_agents = 100\n",
    "simulation_repeats = -1\n",
    "\n",
    "plot_simulation(parameter, values, measures, simulation_repeats, number_of_agents = number_of_agents)"
   ]
  },
  {
   "cell_type": "markdown",
   "metadata": {},
   "source": [
    "## 2.1 Experiments simulation: Effect of number of agents on validation metrics and time metrics"
   ]
  },
  {
   "cell_type": "code",
   "execution_count": null,
   "metadata": {
    "ExecuteTime": {
     "end_time": "2017-04-22T15:14:08.353259",
     "start_time": "2017-04-22T15:14:08.112925"
    },
    "collapsed": false
   },
   "outputs": [],
   "source": [
    "parameter = 'number_of_agents'\n",
    "min_nr_agents, agent_step, max_nr_agents = 100, 100, 2200\n",
    "values = range(min_nr_agents, max_nr_agents + agent_step, agent_step)\n",
    "measures = ['charging_station_validation', 'agent_validation', 'time_per_simulation']\n",
    "simulation_repeats = 30\n",
    "\n",
    "plot_simulation(parameter, values, measures, simulation_repeats)"
   ]
  },
  {
   "cell_type": "markdown",
   "metadata": {
    "collapsed": true
   },
   "source": [
    "## 2.2 Correlation of number of training sessions and agent validation"
   ]
  },
  {
   "cell_type": "code",
   "execution_count": null,
   "metadata": {
    "ExecuteTime": {
     "end_time": "2017-04-23T15:14:15.400505",
     "start_time": "2017-04-23T15:14:15.257853"
    },
    "collapsed": false
   },
   "outputs": [],
   "source": [
    "parameter = 'number_of_agents'\n",
    "values = [2000]\n",
    "measures = ['number_of_training_sessions_with_IDs', 'agent_validation_with_IDs']\n",
    "simulation_repeats = 30\n",
    "\n",
    "plot_correlation(parameter, values, measures, simulation_repeats)"
   ]
  },
  {
   "cell_type": "code",
   "execution_count": null,
   "metadata": {
    "collapsed": true
   },
   "outputs": [],
   "source": []
  }
 ],
 "metadata": {
  "kernelspec": {
   "display_name": "Python 3",
   "language": "python",
   "name": "python3"
  },
  "language_info": {
   "codemirror_mode": {
    "name": "ipython",
    "version": 3
   },
   "file_extension": ".py",
   "mimetype": "text/x-python",
   "name": "python",
   "nbconvert_exporter": "python",
   "pygments_lexer": "ipython3",
   "version": "3.4.3"
  }
 },
 "nbformat": 4,
 "nbformat_minor": 0
}
